{
 "cells": [
  {
   "attachments": {},
   "cell_type": "markdown",
   "metadata": {},
   "source": [
    "## There is a problem in loading the dynamic page. Need to check it. "
   ]
  },
  {
   "cell_type": "code",
   "execution_count": 40,
   "metadata": {},
   "outputs": [
    {
     "name": "stderr",
     "output_type": "stream",
     "text": [
      "[nltk_data] Downloading package punkt to\n",
      "[nltk_data]     C:\\Users\\Guillermo\\AppData\\Roaming\\nltk_data...\n",
      "[nltk_data]   Package punkt is already up-to-date!\n"
     ]
    },
    {
     "data": {
      "text/plain": [
       "\"\\n# Example: Scrape text from El País English edition article\\nne_url = 'https://es.wikipedia.org/wiki/Virreinato_de_Nueva_Espa%C3%B1a'\\nenglish_text = scrape_text(ne_url)\\n\\n# Tokenize text into sentences\\nspanish_sentences = sent_tokenize(spanish_text, language='spanish')\\ndisplay(spanish_sentences)\\nenglish_sentences = sent_tokenize(english_text, language='english')\\n\\n# Clean sentences (remove special characters, digits, and extra spaces)\\ndef clean_sentences(sentences):\\n    cleaned_sentences = []\\n    for sent in sentences:\\n        cleaned_sent = re.sub(r'[^\\\\w\\\\s]', '', sent)\\n        cleaned_sent = re.sub(r'\\\\d+', '', cleaned_sent)\\n        cleaned_sent = re.sub(r'\\\\s+', ' ', cleaned_sent).strip()\\n        cleaned_sentences.append(cleaned_sent)\\n    return cleaned_sentences\\n\\ncleaned_spanish_sentences = clean_sentences(spanish_sentences)\\ncleaned_english_sentences = clean_sentences(english_sentences)\\n\""
      ]
     },
     "execution_count": 40,
     "metadata": {},
     "output_type": "execute_result"
    }
   ],
   "source": [
    "import requests\n",
    "from bs4 import BeautifulSoup\n",
    "import re\n",
    "import nltk\n",
    "nltk.download('punkt')\n",
    "from nltk.tokenize import sent_tokenize\n",
    "import numpy as np\n",
    "\n",
    "# Function to scrape text from a webpage\n",
    "def scrape_images(url):\n",
    "    response = requests.get(url)\n",
    "    soup = BeautifulSoup(response.text, 'html.parser')\n",
    "    image_tags = soup.find_all('img')\n",
    "\n",
    "    #text = ' '.join([para.get_text() for para in paragraphs])\n",
    "    return image_tags\n",
    "\n",
    "# Example: Scrape text from BBC Mundo article\n",
    "#headers = {\n",
    "#    'User-Agent': 'Mozilla/5.0 (Windows NT 10.0; Win64; x64) AppleWebKit/537.36 (KHTML, like Gecko) Chrome/74.0.3729.169 Safari/537.36'\n",
    "#}\n",
    "\n",
    "istock_impresionist_url = 'https://pixabay.com/es/images/search/impressionism/'\n",
    "photos = scrape_images(istock_impresionist_url)\n",
    "'''\n",
    "# Example: Scrape text from El País English edition article\n",
    "ne_url = 'https://es.wikipedia.org/wiki/Virreinato_de_Nueva_Espa%C3%B1a'\n",
    "english_text = scrape_text(ne_url)\n",
    "\n",
    "# Tokenize text into sentences\n",
    "spanish_sentences = sent_tokenize(spanish_text, language='spanish')\n",
    "display(spanish_sentences)\n",
    "english_sentences = sent_tokenize(english_text, language='english')\n",
    "\n",
    "# Clean sentences (remove special characters, digits, and extra spaces)\n",
    "def clean_sentences(sentences):\n",
    "    cleaned_sentences = []\n",
    "    for sent in sentences:\n",
    "        cleaned_sent = re.sub(r'[^\\w\\s]', '', sent)\n",
    "        cleaned_sent = re.sub(r'\\d+', '', cleaned_sent)\n",
    "        cleaned_sent = re.sub(r'\\s+', ' ', cleaned_sent).strip()\n",
    "        cleaned_sentences.append(cleaned_sent)\n",
    "    return cleaned_sentences\n",
    "\n",
    "cleaned_spanish_sentences = clean_sentences(spanish_sentences)\n",
    "cleaned_english_sentences = clean_sentences(english_sentences)\n",
    "'''"
   ]
  },
  {
   "cell_type": "code",
   "execution_count": 41,
   "metadata": {},
   "outputs": [
    {
     "data": {
      "text/plain": [
       "[]"
      ]
     },
     "metadata": {},
     "output_type": "display_data"
    }
   ],
   "source": [
    "display(photos)"
   ]
  },
  {
   "cell_type": "code",
   "execution_count": 56,
   "metadata": {},
   "outputs": [
    {
     "name": "stderr",
     "output_type": "stream",
     "text": [
      "C:\\Users\\Guillermo\\AppData\\Local\\Temp\\ipykernel_13332\\932129324.py:15: DeprecationWarning: executable_path has been deprecated, please pass in a Service object\n",
      "  browser = webdriver.Chrome(ChromeDriverManager().install())\n"
     ]
    }
   ],
   "source": [
    "from selenium import webdriver\n",
    "from selenium.webdriver.common.by import By\n",
    "from selenium.webdriver.support.ui import WebDriverWait\n",
    "from selenium.webdriver.support import expected_conditions as EC\n",
    "from bs4 import BeautifulSoup\n",
    "from webdriver_manager.chrome import ChromeDriverManager\n",
    "import time\n",
    "\n",
    "\n",
    "# Make sure the path to your WebDriver executable is correct\n",
    "#driver_path = 'path/to/your/webdriver/executable'\n",
    "\n",
    "#There is a problem with this function. It goes to the bottom but the middle images\n",
    "# are not loaded. \n",
    "\n",
    "def scrape_images(url):\n",
    "    # Set up the browser\n",
    "    browser = webdriver.Chrome(ChromeDriverManager().install())\n",
    "    browser.get(url)\n",
    "\n",
    "    SCROLL_PAUSE_TIME = 10\n",
    "\n",
    "    # Get scroll height\n",
    "    last_height = browser.execute_script(\"return document.body.scrollHeight\")\n",
    "\n",
    "    while True:\n",
    "        # Scroll down to bottom\n",
    "        browser.execute_script(\"window.scrollTo(0, document.body.scrollHeight);\")\n",
    "\n",
    "        # Wait to load page\n",
    "        time.sleep(SCROLL_PAUSE_TIME)\n",
    "\n",
    "        # Calculate new scroll height and compare with last scroll height\n",
    "        new_height = browser.execute_script(\"return document.body.scrollHeight\")\n",
    "        if new_height == last_height:\n",
    "            break\n",
    "        last_height = new_height\n",
    "\n",
    "\n",
    "    # Wait for the images to load\n",
    "    try:\n",
    "        WebDriverWait(browser, 10).until(\n",
    "            EC.presence_of_element_located((By.TAG_NAME, \"img\"))\n",
    "        )\n",
    "    except TimeoutException:\n",
    "        print(\"Timed out waiting for images to load.\")\n",
    "\n",
    "    # Parse the HTML\n",
    "    soup = BeautifulSoup(browser.page_source, 'html.parser')\n",
    "    image_tags = soup.find_all('img')\n",
    "\n",
    "    image_src = [image.get('src') for image in image_tags]\n",
    "\n",
    "    # Close the browser\n",
    "    browser.quit()\n",
    "\n",
    "    return image_src\n",
    "\n",
    "url = \"https://pixabay.com/es/images/search/impressionism/\"\n",
    "\n",
    "\n",
    "\n",
    "images = scrape_images(url)\n"
   ]
  },
  {
   "cell_type": "code",
   "execution_count": 57,
   "metadata": {},
   "outputs": [
    {
     "data": {
      "text/plain": [
       "['https://link.pixabay.com/?ua=cd3%3Dimage%26cd7%3Des%253Aimpressionism%253AMEX%26ec%3Dapi_ad%26ea%3Dpixel%26el%3Dgetty%26tid%3DUA-20223345-1%26dr%3D&sp=%2524%3Dadvertisement_viewed%26action%3Dpixel%26ad_partner%3Dgetty%26ad_content%3Dapi_ad%26ad_type%3D%26media_type%3Dimage%26media_id%3D&next=%2Fstatic%2Fimg%2Fblank.gif&hash=8dee7638771881503eed8ec4adb89d6f74581b39&=',\n",
       " 'https://cdn.pixabay.com/photo/2022/09/02/13/45/paris-7427636_1280.jpg',\n",
       " 'https://cdn.pixabay.com/photo/2021/02/05/11/31/bridge-5984279_640.jpg',\n",
       " 'https://cdn.pixabay.com/photo/2012/02/28/15/51/monet-18578_640.jpg',\n",
       " 'https://cdn.pixabay.com/photo/2013/07/12/15/55/last-supper-150578_640.png',\n",
       " 'https://cdn.pixabay.com/photo/2016/09/28/19/48/art-1701280_640.jpg',\n",
       " 'https://cdn.pixabay.com/photo/2020/02/04/06/50/butterfly-4817435_640.jpg',\n",
       " 'https://cdn.pixabay.com/photo/2020/01/14/14/11/art-4765196_640.jpg',\n",
       " 'https://cdn.pixabay.com/photo/2017/12/11/16/12/book-3012622_640.jpg',\n",
       " 'https://cdn.pixabay.com/photo/2022/12/27/15/54/picture-7681225_640.jpg',\n",
       " 'https://cdn.pixabay.com/photo/2016/06/08/20/20/modigliani-1444594_640.jpg',\n",
       " 'https://cdn.pixabay.com/photo/2023/01/15/19/38/cheetah-7720933_640.jpg',\n",
       " 'https://cdn.pixabay.com/photo/2022/01/01/16/39/water-6908279_640.jpg',\n",
       " 'https://cdn.pixabay.com/photo/2017/01/08/19/37/fractal-1963762_640.jpg',\n",
       " 'https://cdn.pixabay.com/photo/2021/02/27/15/40/parrot-6054876_640.jpg',\n",
       " 'https://cdn.pixabay.com/photo/2016/09/17/17/05/boat-1676532_640.jpg',\n",
       " 'https://cdn.pixabay.com/photo/2021/02/01/19/14/vintage-5971661_640.jpg',\n",
       " 'https://cdn.pixabay.com/photo/2016/12/21/19/42/vincent-van-gogh-1923744_640.jpg',\n",
       " 'https://cdn.pixabay.com/photo/2021/06/10/14/25/daisies-6326127_640.jpg',\n",
       " 'https://cdn.pixabay.com/photo/2017/04/27/11/57/painting-2265374_640.jpg',\n",
       " 'https://cdn.pixabay.com/photo/2016/01/25/21/20/ride-pigs-1161477_640.jpg',\n",
       " 'https://cdn.pixabay.com/photo/2021/02/20/19/50/abraham-lincoln-6034454_640.jpg',\n",
       " 'https://cdn.pixabay.com/photo/2014/02/05/10/54/sunset-258878_640.jpg',\n",
       " 'https://cdn.pixabay.com/photo/2022/08/13/05/59/impressionism-7382951_640.jpg',\n",
       " 'https://cdn.pixabay.com/photo/2022/08/13/05/59/impressionism-7382952_640.jpg',\n",
       " 'https://cdn.pixabay.com/photo/2017/02/23/15/44/art-2092511_640.jpg',\n",
       " 'https://cdn.pixabay.com/photo/2017/03/23/15/57/watercolour-2168729_640.jpg',\n",
       " 'https://cdn.pixabay.com/photo/2013/07/12/15/53/high-jump-150517_640.png',\n",
       " 'https://cdn.pixabay.com/photo/2016/06/01/00/42/post-impressionist-1428132_640.jpg',\n",
       " 'https://cdn.pixabay.com/photo/2015/07/02/21/08/painting-829574_640.jpg',\n",
       " 'https://cdn.pixabay.com/photo/2017/11/10/23/00/painting-2937907_640.jpg',\n",
       " 'https://cdn.pixabay.com/photo/2019/10/15/17/37/sunflowers-4552426_640.jpg',\n",
       " 'https://cdn.pixabay.com/photo/2021/02/08/14/59/village-5995070_640.jpg',\n",
       " 'https://cdn.pixabay.com/photo/2020/01/14/14/10/art-4765189_640.jpg',\n",
       " 'https://cdn.pixabay.com/photo/2012/02/28/00/49/impressionist-painting-17845_640.jpg',\n",
       " 'https://cdn.pixabay.com/photo/2020/02/05/04/44/bobcat-4820110_640.jpg',\n",
       " 'https://cdn.pixabay.com/photo/2020/08/08/10/14/sculpture-5472640_640.jpg',\n",
       " 'https://cdn.pixabay.com/photo/2022/06/09/01/43/abstract-7251558_640.jpg',\n",
       " 'https://cdn.pixabay.com/photo/2013/01/05/21/25/sisters-74069_640.jpg',\n",
       " 'https://cdn.pixabay.com/photo/2017/03/09/22/45/house-2131112_640.jpg',\n",
       " 'https://cdn.pixabay.com/photo/2016/09/17/17/05/digital-art-1676531_640.jpg',\n",
       " 'https://cdn.pixabay.com/photo/2017/11/10/22/50/painting-2937880_640.jpg',\n",
       " 'https://cdn.pixabay.com/photo/2016/06/01/00/46/post-impressionist-1428139_640.jpg',\n",
       " 'https://cdn.pixabay.com/photo/2014/04/13/23/34/mixed-media-323379_640.jpg',\n",
       " 'https://cdn.pixabay.com/photo/2016/05/30/03/15/post-impressionist-1424182_640.jpg',\n",
       " 'https://cdn.pixabay.com/photo/2019/03/18/18/41/church-4063765_640.jpg',\n",
       " 'https://cdn.pixabay.com/photo/2017/11/10/22/56/painting-2937900_640.jpg',\n",
       " 'https://cdn.pixabay.com/photo/2012/02/16/12/29/background-13557_640.jpg',\n",
       " 'https://cdn.pixabay.com/photo/2022/08/13/06/00/impressionism-7382953_640.jpg',\n",
       " 'https://cdn.pixabay.com/photo/2021/08/25/12/09/trees-6573250_640.jpg',\n",
       " 'https://cdn.pixabay.com/photo/2016/09/17/17/10/artistic-1676551_640.jpg',\n",
       " 'https://cdn.pixabay.com/photo/2016/06/01/00/40/post-impressionist-1428129_640.jpg',\n",
       " 'https://cdn.pixabay.com/photo/2016/06/01/00/44/post-impressionist-1428136_640.jpg',\n",
       " 'https://cdn.pixabay.com/photo/2016/06/01/00/40/post-impressionist-1428128_640.jpg',\n",
       " 'https://cdn.pixabay.com/photo/2018/09/21/08/58/painting-3692587_640.jpg',\n",
       " 'https://cdn.pixabay.com/photo/2016/06/01/00/46/post-impressionist-1428140_640.jpg',\n",
       " 'https://cdn.pixabay.com/photo/2020/01/14/14/09/art-4765180_640.jpg',\n",
       " 'https://cdn.pixabay.com/photo/2017/02/13/21/32/sunset-2063910_640.jpg',\n",
       " 'https://cdn.pixabay.com/photo/2017/03/09/22/15/portrait-2131000_640.jpg',\n",
       " 'https://cdn.pixabay.com/photo/2013/11/14/20/21/water-210641_640.jpg',\n",
       " 'https://cdn.pixabay.com/photo/2017/03/09/22/18/portrait-2131012_640.jpg',\n",
       " 'https://cdn.pixabay.com/photo/2023/01/15/16/48/gorilla-7720646_640.jpg',\n",
       " 'https://cdn.pixabay.com/photo/2019/05/01/00/38/iris-4169801_640.jpg',\n",
       " 'https://cdn.pixabay.com/photo/2017/03/09/22/07/abstract-tree-2130991_640.jpg',\n",
       " 'https://cdn.pixabay.com/photo/2021/07/30/10/13/lion-6509250_640.jpg',\n",
       " 'https://cdn.pixabay.com/photo/2018/09/27/19/20/abstract-tree-3707701_640.jpg',\n",
       " 'https://cdn.pixabay.com/photo/2019/06/07/14/22/vincent-van-gogh-4258384_640.jpg',\n",
       " 'https://cdn.pixabay.com/photo/2022/08/13/05/59/impressionism-7382949_640.jpg',\n",
       " 'https://cdn.pixabay.com/photo/2021/06/08/11/20/bird-6320424_640.jpg',\n",
       " 'https://cdn.pixabay.com/photo/2021/08/25/12/09/trees-6573251_640.jpg',\n",
       " 'https://cdn.pixabay.com/photo/2021/05/24/20/51/giverny-6280563_640.jpg',\n",
       " 'https://cdn.pixabay.com/photo/2016/09/25/14/09/impressionism-1693789_640.jpg',\n",
       " 'https://cdn.pixabay.com/photo/2012/12/18/17/46/brocade-carp-70607_640.jpg',\n",
       " 'https://cdn.pixabay.com/photo/2021/02/02/12/34/london-5973815_640.jpg',\n",
       " 'https://cdn.pixabay.com/photo/2022/08/13/05/59/impressionism-7382950_640.jpg',\n",
       " 'https://cdn.pixabay.com/photo/2021/08/30/19/57/cat-6586888_640.jpg',\n",
       " 'https://cdn.pixabay.com/photo/2021/02/01/19/22/swirl-5971717_640.jpg',\n",
       " 'https://cdn.pixabay.com/photo/2019/10/02/08/43/tree-heart-4520424_640.png',\n",
       " 'https://cdn.pixabay.com/photo/2016/06/01/00/47/post-impressionist-1428142_640.jpg',\n",
       " 'https://cdn.pixabay.com/photo/2017/11/10/22/55/painting-2937898_640.jpg',\n",
       " 'https://cdn.pixabay.com/photo/2016/06/01/00/44/post-impressionist-1428137_640.jpg',\n",
       " 'https://cdn.pixabay.com/photo/2019/05/05/21/42/fire-4181782_640.jpg',\n",
       " 'https://cdn.pixabay.com/photo/2019/10/15/17/39/sunflowers-4552429_640.jpg',\n",
       " 'https://cdn.pixabay.com/photo/2022/12/22/12/22/picture-7672080_640.jpg',\n",
       " 'https://cdn.pixabay.com/photo/2023/01/15/19/26/tiger-7720915_640.jpg',\n",
       " 'https://cdn.pixabay.com/photo/2019/05/01/00/40/iris-4169805_640.jpg',\n",
       " 'https://cdn.pixabay.com/photo/2023/01/16/19/52/bear-7723204_640.jpg',\n",
       " 'https://cdn.pixabay.com/photo/2023/01/24/02/40/paint-7740095_640.jpg',\n",
       " 'https://cdn.pixabay.com/photo/2016/11/15/17/12/train-1826857_640.jpg',\n",
       " 'https://cdn.pixabay.com/photo/2016/07/05/00/42/landscape-1497890_640.jpg',\n",
       " 'https://cdn.pixabay.com/photo/2021/06/26/13/22/wave-6366213_640.jpg',\n",
       " 'https://cdn.pixabay.com/photo/2016/06/01/00/47/post-impressionist-1428144_640.jpg',\n",
       " 'https://cdn.pixabay.com/photo/2021/02/27/13/13/zebra-6054532_640.jpg',\n",
       " 'https://cdn.pixabay.com/photo/2016/05/30/03/15/post-impressionist-1424183_640.jpg',\n",
       " 'https://cdn.pixabay.com/photo/2017/04/27/11/51/painting-2265351_640.jpg',\n",
       " 'https://cdn.pixabay.com/photo/2021/02/27/14/29/geometric-6054743_640.jpg',\n",
       " 'https://cdn.pixabay.com/photo/2016/06/24/20/32/background-1477824_640.jpg',\n",
       " 'https://cdn.pixabay.com/photo/2022/08/13/06/00/impressionism-7382954_640.jpg',\n",
       " 'https://cdn.pixabay.com/photo/2021/06/08/10/46/horse-6320384_640.jpg',\n",
       " 'https://cdn.pixabay.com/photo/2019/10/16/16/53/painting-4554889_640.jpg',\n",
       " 'https://link.pixabay.com/?ua=cd3%3Dimage%26cd7%3Des%253Aimpressionism%253AMEX%26ec%3Dapi_ad%26ea%3Dpixel%26el%3Dgetty%26tid%3DUA-20223345-1%26dr%3D&sp=%2524%3Dadvertisement_viewed%26action%3Dpixel%26ad_partner%3Dgetty%26ad_content%3Dapi_ad%26ad_type%3D%26media_type%3Dimage%26media_id%3D&next=%2Fstatic%2Fimg%2Fblank.gif&hash=8dee7638771881503eed8ec4adb89d6f74581b39&=']"
      ]
     },
     "metadata": {},
     "output_type": "display_data"
    },
    {
     "data": {
      "text/plain": [
       "101"
      ]
     },
     "metadata": {},
     "output_type": "display_data"
    }
   ],
   "source": [
    "display(images)\n",
    "display(len(images))"
   ]
  },
  {
   "cell_type": "code",
   "execution_count": 62,
   "metadata": {},
   "outputs": [],
   "source": [
    "import os\n",
    "import requests\n",
    "from urllib.parse import urlparse\n",
    "\n",
    "def download_image(url, folder_path):\n",
    "\n",
    "    # Create the folder if it doesn't exist\n",
    "    if not os.path.exists(folder_path):\n",
    "        os.makedirs(folder_path)\n",
    "\n",
    "    response = requests.get(url)\n",
    "    \n",
    "    # Check if the request was successful\n",
    "    if response.status_code == 200:\n",
    "        # Parse the URL to extract the image file name\n",
    "        parsed_url = urlparse(url)\n",
    "        image_name = os.path.basename(parsed_url.path)\n",
    "        \n",
    "        # Save the image to the folder\n",
    "        with open(os.path.join(folder_path, image_name), 'wb') as image_file:\n",
    "            image_file.write(response.content)\n",
    "    else:\n",
    "        print(f\"Failed to download image: {url}\")\n"
   ]
  },
  {
   "cell_type": "code",
   "execution_count": 64,
   "metadata": {},
   "outputs": [
    {
     "name": "stdout",
     "output_type": "stream",
     "text": [
      "Failed to download image: https://link.pixabay.com/?ua=cd3%3Dimage%26cd7%3Des%253Aimpressionism%253AMEX%26ec%3Dapi_ad%26ea%3Dpixel%26el%3Dgetty%26tid%3DUA-20223345-1%26dr%3D&sp=%2524%3Dadvertisement_viewed%26action%3Dpixel%26ad_partner%3Dgetty%26ad_content%3Dapi_ad%26ad_type%3D%26media_type%3Dimage%26media_id%3D&next=%2Fstatic%2Fimg%2Fblank.gif&hash=8dee7638771881503eed8ec4adb89d6f74581b39&=\n",
      "Failed to download image: https://link.pixabay.com/?ua=cd3%3Dimage%26cd7%3Des%253Aimpressionism%253AMEX%26ec%3Dapi_ad%26ea%3Dpixel%26el%3Dgetty%26tid%3DUA-20223345-1%26dr%3D&sp=%2524%3Dadvertisement_viewed%26action%3Dpixel%26ad_partner%3Dgetty%26ad_content%3Dapi_ad%26ad_type%3D%26media_type%3Dimage%26media_id%3D&next=%2Fstatic%2Fimg%2Fblank.gif&hash=8dee7638771881503eed8ec4adb89d6f74581b39&=\n"
     ]
    }
   ],
   "source": [
    "impressionist_images = 'impressionism_images'\n",
    "\n",
    "for image in images:\n",
    "\n",
    "    download_image(image, impressionist_images)\n"
   ]
  },
  {
   "cell_type": "code",
   "execution_count": 65,
   "metadata": {},
   "outputs": [],
   "source": [
    "def find_and_download_images(url, folder_path):\n",
    "\n",
    "    images_url = scrape_images(url)\n",
    "\n",
    "    for image in images_url:\n",
    "\n",
    "        download_image(image, folder_path)\n"
   ]
  },
  {
   "cell_type": "code",
   "execution_count": 66,
   "metadata": {},
   "outputs": [],
   "source": [
    "nature_photography = 'https://pixabay.com/es/images/search/nature%20photography/'"
   ]
  },
  {
   "cell_type": "code",
   "execution_count": 67,
   "metadata": {},
   "outputs": [
    {
     "name": "stderr",
     "output_type": "stream",
     "text": [
      "C:\\Users\\Guillermo\\AppData\\Local\\Temp\\ipykernel_13332\\932129324.py:15: DeprecationWarning: executable_path has been deprecated, please pass in a Service object\n",
      "  browser = webdriver.Chrome(ChromeDriverManager().install())\n"
     ]
    },
    {
     "name": "stdout",
     "output_type": "stream",
     "text": [
      "Failed to download image: https://link.pixabay.com/?ua=cd3%3Dimage%26cd7%3Den%253Anaturaleza%253AMEX%26ec%3Dapi_ad%26ea%3Dpixel%26el%3Dgetty%26tid%3DUA-20223345-1%26dr%3Dhttps%253A%252F%252Fpixabay.com%252Fes%252Fimages%252Fsearch%252Fphotography%252F&sp=%2524%3Dadvertisement_viewed%26action%3Dpixel%26ad_partner%3Dgetty%26ad_content%3Dapi_ad%26ad_type%3D%26media_type%3Dimage%26media_id%3D&next=%2Fstatic%2Fimg%2Fblank.gif&hash=7b3828aa07d36e7b7ab16fddfb0959e348c68670&=\n",
      "Failed to download image: https://link.pixabay.com/?ua=cd3%3Dimage%26cd7%3Den%253Anaturaleza%253AMEX%26ec%3Dapi_ad%26ea%3Dpixel%26el%3Dgetty%26tid%3DUA-20223345-1%26dr%3Dhttps%253A%252F%252Fpixabay.com%252Fes%252Fimages%252Fsearch%252Fphotography%252F&sp=%2524%3Dadvertisement_viewed%26action%3Dpixel%26ad_partner%3Dgetty%26ad_content%3Dapi_ad%26ad_type%3D%26media_type%3Dimage%26media_id%3D&next=%2Fstatic%2Fimg%2Fblank.gif&hash=7b3828aa07d36e7b7ab16fddfb0959e348c68670&=\n"
     ]
    }
   ],
   "source": [
    "find_and_download_images(nature_photography, 'nature_photography')"
   ]
  }
 ],
 "metadata": {
  "kernelspec": {
   "display_name": "py310",
   "language": "python",
   "name": "python3"
  },
  "language_info": {
   "codemirror_mode": {
    "name": "ipython",
    "version": 3
   },
   "file_extension": ".py",
   "mimetype": "text/x-python",
   "name": "python",
   "nbconvert_exporter": "python",
   "pygments_lexer": "ipython3",
   "version": "3.10.4"
  },
  "orig_nbformat": 4
 },
 "nbformat": 4,
 "nbformat_minor": 2
}
